{
 "cells": [
  {
   "cell_type": "code",
   "execution_count": 1,
   "metadata": {},
   "outputs": [],
   "source": [
    "import requests # Para la conexiones con las paginas\n",
    "from bs4 import BeautifulSoup as b # para extraer datos de archivos HTML y XML, leugo de la conexión con la página\n",
    "import pandas as pd # Para guardar los datos en DataFrame\n",
    "import re # Para utilizar expresiones regulares"
   ]
  },
  {
   "cell_type": "code",
   "execution_count": 2,
   "metadata": {},
   "outputs": [],
   "source": [
    "def conexion(url):\n",
    "    respueta = requests.get(url) # La función devuelve un objeto Response (una respuesta)\n",
    "    conect = respueta.content # Si la respuesta fue positiva, entonces se procede a hacer la conexión\n",
    "    soup = b(conect, 'html') # Se visualiza mejor la página para extraer texto específico\n",
    "    return soup"
   ]
  },
  {
   "attachments": {},
   "cell_type": "markdown",
   "metadata": {},
   "source": [
    "Determinar el número de páginas de la consulta"
   ]
  },
  {
   "cell_type": "code",
   "execution_count": 3,
   "metadata": {},
   "outputs": [],
   "source": [
    "url = 'https://siem.economia.gob.mx/establecimientos-publicos-x-criterios?id=&catEntidadFederativaFk=0&catActividad=0&catCamaraFk=~Jf3KrDTdu63&nombreComercial=&importa=2&exporta=2&publico=2&catEdoEstablecimientoFk=0&pageNum=0'"
   ]
  },
  {
   "cell_type": "code",
   "execution_count": 5,
   "metadata": {},
   "outputs": [],
   "source": [
    "conection = conexion(url)\n",
    "pagina0 = str(conection)\n",
    "NumeroPaginas = int(re.findall(r'\"pages\":(\\d+)', pagina0)[0]) #Extraemos el número de páginas con la expresión regular r'\"pages\":(\\d+)', donde se muestra lo que se encuentre despúes de \"pages\": y que coincida con números (d)."
   ]
  },
  {
   "cell_type": "code",
   "execution_count": 6,
   "metadata": {},
   "outputs": [
    {
     "data": {
      "text/plain": [
       "334"
      ]
     },
     "execution_count": 6,
     "metadata": {},
     "output_type": "execute_result"
    }
   ],
   "source": [
    "NumeroPaginas"
   ]
  },
  {
   "attachments": {},
   "cell_type": "markdown",
   "metadata": {},
   "source": [
    "Para obtener los ID y los nombres de las empresas"
   ]
  },
  {
   "cell_type": "code",
   "execution_count": 79,
   "metadata": {},
   "outputs": [],
   "source": [
    "ID = []\n",
    "tradename = []"
   ]
  },
  {
   "cell_type": "code",
   "execution_count": 80,
   "metadata": {},
   "outputs": [],
   "source": [
    "for i in range(1,NumeroPaginas+1):\n",
    "    url = f'https://siem.economia.gob.mx/establecimientos-publicos-x-criterios?id=&catEntidadFederativaFk=0&catActividad=0&catCamaraFk=~Jf3KrDTdu63&nombreComercial=&importa=2&exporta=2&publico=2&catEdoEstablecimientoFk=0&pageNum={i}&orderBy=&desc=0'\n",
    "    consulta = str(conexion(url))\n",
    "    ID.extend(re.findall(r'\"id\":\"(\\w+)', consulta)) # esta expresión regular nos devuelve los caracteres alfa numéricos que se encuentren despues de '\"id\":'\n",
    "    tradename.extend(re.findall(r'\"nombreComercial\":\"([\\w\\s|,.]+)', consulta)) # Como los nombres comerciales de las empresas pueden contener caracteres alfa numércios (w), espacios en blanco (s) comas, puntos y otro caracter especial (,.|), entonces se debe el conjunto [\\w\\s|,.]."
   ]
  },
  {
   "cell_type": "code",
   "execution_count": 81,
   "metadata": {},
   "outputs": [
    {
     "data": {
      "text/plain": [
       "3333"
      ]
     },
     "execution_count": 81,
     "metadata": {},
     "output_type": "execute_result"
    }
   ],
   "source": [
    "len(ID) # Se verifica que se haya obtenido los ID de las 3333 empresas"
   ]
  },
  {
   "cell_type": "code",
   "execution_count": 82,
   "metadata": {},
   "outputs": [
    {
     "data": {
      "text/plain": [
       "3333"
      ]
     },
     "execution_count": 82,
     "metadata": {},
     "output_type": "execute_result"
    }
   ],
   "source": [
    "len(tradename) # Se verifica que se haya obtenido los nombres comerciales de las 3333 empresas"
   ]
  },
  {
   "attachments": {},
   "cell_type": "markdown",
   "metadata": {},
   "source": [
    "Para conseguir número de celular y correo"
   ]
  },
  {
   "cell_type": "code",
   "execution_count": 83,
   "metadata": {},
   "outputs": [],
   "source": [
    "telefono = []\n",
    "correo = []"
   ]
  },
  {
   "cell_type": "code",
   "execution_count": null,
   "metadata": {},
   "outputs": [],
   "source": [
    "for i in ID:\n",
    "    url = f'https://siem.economia.gob.mx/establecimiento-ubicacion.json?id={i}'\n",
    "    consulta = requests.get(url).json()\n",
    "    telefono.append(consulta[\"telefono\"]) # Se trabaja como una consulta al .json que nos devuelve la url\n",
    "    correo.append(consulta[\"mail\"]) # Se trabaja como una consulta al .json que nos devuelve la url"
   ]
  },
  {
   "cell_type": "code",
   "execution_count": 125,
   "metadata": {},
   "outputs": [
    {
     "data": {
      "text/plain": [
       "3333"
      ]
     },
     "execution_count": 125,
     "metadata": {},
     "output_type": "execute_result"
    }
   ],
   "source": [
    "len(telefono)"
   ]
  },
  {
   "cell_type": "code",
   "execution_count": 127,
   "metadata": {},
   "outputs": [
    {
     "data": {
      "text/plain": [
       "3333"
      ]
     },
     "execution_count": 127,
     "metadata": {},
     "output_type": "execute_result"
    }
   ],
   "source": [
    "len(correo)"
   ]
  },
  {
   "attachments": {},
   "cell_type": "markdown",
   "metadata": {},
   "source": [
    "Creando la tabla de los datos extraidos (DataFrame)"
   ]
  },
  {
   "cell_type": "code",
   "execution_count": 128,
   "metadata": {},
   "outputs": [],
   "source": [
    "Datos = pd.DataFrame( {'ID': ID, 'TRADENAME': tradename, 'TELEFONO' : telefono, 'CORREO': correo})"
   ]
  },
  {
   "cell_type": "code",
   "execution_count": 129,
   "metadata": {},
   "outputs": [
    {
     "data": {
      "text/html": [
       "<div>\n",
       "<style scoped>\n",
       "    .dataframe tbody tr th:only-of-type {\n",
       "        vertical-align: middle;\n",
       "    }\n",
       "\n",
       "    .dataframe tbody tr th {\n",
       "        vertical-align: top;\n",
       "    }\n",
       "\n",
       "    .dataframe thead th {\n",
       "        text-align: right;\n",
       "    }\n",
       "</style>\n",
       "<table border=\"1\" class=\"dataframe\">\n",
       "  <thead>\n",
       "    <tr style=\"text-align: right;\">\n",
       "      <th></th>\n",
       "      <th>ID</th>\n",
       "      <th>TRADENAME</th>\n",
       "      <th>TELEFONO</th>\n",
       "      <th>CORREO</th>\n",
       "    </tr>\n",
       "  </thead>\n",
       "  <tbody>\n",
       "    <tr>\n",
       "      <th>0</th>\n",
       "      <td>274930</td>\n",
       "      <td>Spat Mail, S.A. de C.V.</td>\n",
       "      <td>6141802815</td>\n",
       "      <td>JURIDICO@SPATMAIL.COM</td>\n",
       "    </tr>\n",
       "    <tr>\n",
       "      <th>1</th>\n",
       "      <td>1167188</td>\n",
       "      <td>Adhesivos del Bajío, S. de R.L. de C.V.</td>\n",
       "      <td>4777150105</td>\n",
       "      <td>gerencialeon@ade1000.com</td>\n",
       "    </tr>\n",
       "    <tr>\n",
       "      <th>2</th>\n",
       "      <td>1237133</td>\n",
       "      <td>SPAT MAILSpat Mail, S.A. de C.V.</td>\n",
       "      <td>6141802815</td>\n",
       "      <td>JURIDICO@SPATMAIL.COM</td>\n",
       "    </tr>\n",
       "    <tr>\n",
       "      <th>3</th>\n",
       "      <td>2779742</td>\n",
       "      <td>Mauricio Alfonso Alvarez Hidalgo</td>\n",
       "      <td>7773124100</td>\n",
       "      <td>FACTURACIONC@HOTMAIL.COM</td>\n",
       "    </tr>\n",
       "    <tr>\n",
       "      <th>4</th>\n",
       "      <td>4032155</td>\n",
       "      <td>Horacio Hurtado Hernandez</td>\n",
       "      <td>8682110292</td>\n",
       "      <td>lachoexpress@prodigy.net.mx</td>\n",
       "    </tr>\n",
       "    <tr>\n",
       "      <th>...</th>\n",
       "      <td>...</td>\n",
       "      <td>...</td>\n",
       "      <td>...</td>\n",
       "      <td>...</td>\n",
       "    </tr>\n",
       "    <tr>\n",
       "      <th>3328</th>\n",
       "      <td>zs6h6a6bsi</td>\n",
       "      <td>Togo Delivery, S.A. de C.V.</td>\n",
       "      <td>5542021691</td>\n",
       "      <td>msanchez@ferac.com.mx</td>\n",
       "    </tr>\n",
       "    <tr>\n",
       "      <th>3329</th>\n",
       "      <td>zttzkcg180</td>\n",
       "      <td>Transportes de Hidrocarburos, S.A. de C.V.</td>\n",
       "      <td>5557695716</td>\n",
       "      <td>None</td>\n",
       "    </tr>\n",
       "    <tr>\n",
       "      <th>3330</th>\n",
       "      <td>zu61ul1pv4</td>\n",
       "      <td>Express J.L. Nava, S.A. de C.V.</td>\n",
       "      <td>8262610771</td>\n",
       "      <td>None</td>\n",
       "    </tr>\n",
       "    <tr>\n",
       "      <th>3331</th>\n",
       "      <td>zuz7g0cbow</td>\n",
       "      <td>Juan Pedro Castañeda Palos</td>\n",
       "      <td>4492314839</td>\n",
       "      <td>NATHALIE.NAVARRO@TCHHIDROEXPRESS.COM</td>\n",
       "    </tr>\n",
       "    <tr>\n",
       "      <th>3332</th>\n",
       "      <td>zx5faifvao</td>\n",
       "      <td>Unilog de La Frontera, S. de R.L. de C.V.</td>\n",
       "      <td>6563823445</td>\n",
       "      <td>administracion@unilogdelafrontera.com</td>\n",
       "    </tr>\n",
       "  </tbody>\n",
       "</table>\n",
       "<p>3333 rows × 4 columns</p>\n",
       "</div>"
      ],
      "text/plain": [
       "              ID                                   TRADENAME    TELEFONO  \\\n",
       "0         274930                     Spat Mail, S.A. de C.V.  6141802815   \n",
       "1        1167188     Adhesivos del Bajío, S. de R.L. de C.V.  4777150105   \n",
       "2        1237133            SPAT MAILSpat Mail, S.A. de C.V.  6141802815   \n",
       "3        2779742            Mauricio Alfonso Alvarez Hidalgo  7773124100   \n",
       "4        4032155                   Horacio Hurtado Hernandez  8682110292   \n",
       "...          ...                                         ...         ...   \n",
       "3328  zs6h6a6bsi                 Togo Delivery, S.A. de C.V.  5542021691   \n",
       "3329  zttzkcg180  Transportes de Hidrocarburos, S.A. de C.V.  5557695716   \n",
       "3330  zu61ul1pv4             Express J.L. Nava, S.A. de C.V.  8262610771   \n",
       "3331  zuz7g0cbow                  Juan Pedro Castañeda Palos  4492314839   \n",
       "3332  zx5faifvao   Unilog de La Frontera, S. de R.L. de C.V.  6563823445   \n",
       "\n",
       "                                     CORREO  \n",
       "0                     JURIDICO@SPATMAIL.COM  \n",
       "1                  gerencialeon@ade1000.com  \n",
       "2                     JURIDICO@SPATMAIL.COM  \n",
       "3                  FACTURACIONC@HOTMAIL.COM  \n",
       "4               lachoexpress@prodigy.net.mx  \n",
       "...                                     ...  \n",
       "3328                  msanchez@ferac.com.mx  \n",
       "3329                                   None  \n",
       "3330                                   None  \n",
       "3331   NATHALIE.NAVARRO@TCHHIDROEXPRESS.COM  \n",
       "3332  administracion@unilogdelafrontera.com  \n",
       "\n",
       "[3333 rows x 4 columns]"
      ]
     },
     "execution_count": 129,
     "metadata": {},
     "output_type": "execute_result"
    }
   ],
   "source": [
    "Datos"
   ]
  },
  {
   "attachments": {},
   "cell_type": "markdown",
   "metadata": {},
   "source": [
    "Guardamos la tabla en un .csv"
   ]
  },
  {
   "cell_type": "code",
   "execution_count": 131,
   "metadata": {},
   "outputs": [],
   "source": [
    "Datos.to_csv('EmpresasDeLogísticaMéxico.csv', index= False, encoding = '')"
   ]
  }
 ],
 "metadata": {
  "kernelspec": {
   "display_name": "Python 3",
   "language": "python",
   "name": "python3"
  },
  "language_info": {
   "codemirror_mode": {
    "name": "ipython",
    "version": 3
   },
   "file_extension": ".py",
   "mimetype": "text/x-python",
   "name": "python",
   "nbconvert_exporter": "python",
   "pygments_lexer": "ipython3",
   "version": "3.10.4"
  },
  "orig_nbformat": 4,
  "vscode": {
   "interpreter": {
    "hash": "45e2e186b83fae5600f279aff39b9b31db88e58868fc04a60be037eb2c4bfa89"
   }
  }
 },
 "nbformat": 4,
 "nbformat_minor": 2
}
